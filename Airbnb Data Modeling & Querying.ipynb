{
    "metadata": {
        "kernelspec": {
            "name": "SQL",
            "display_name": "SQL",
            "language": "sql"
        },
        "language_info": {
            "name": "sql",
            "version": ""
        },
        "extensions": {
            "azuredatastudio": {
                "version": 1,
                "views": []
            }
        }
    },
    "nbformat_minor": 2,
    "nbformat": 4,
    "cells": [
        {
            "cell_type": "markdown",
            "source": [
                "Parsing Scraped Data File into Seperate Eneities"
            ],
            "metadata": {
                "azdata_cell_guid": "979feea5-a191-4e5b-8b40-1dc049350bdd"
            },
            "attachments": {}
        },
        {
            "cell_type": "code",
            "source": [
                "CREATE TABLE [airbnb].[dbo].[hosts]\r\n",
                "    (host_id INT PRIMARY KEY\r\n",
                "    , host_name NVARCHAR(40)\r\n",
                "    , host_since DATETIME2\r\n",
                "    , host_location NVARCHAR(100)\r\n",
                "    , response_time NVARCHAR(20)\r\n",
                "    , response_rate FLOAT\r\n",
                "    , acceptance_rate FLOAT\r\n",
                "    , is_superhost BIT\r\n",
                "    , neighborhood NVARCHAR(30)\r\n",
                "    , listings_count INT\r\n",
                "    , total_listings_count INT\r\n",
                "    , verifications NVARCHAR(150)\r\n",
                "    , has_profile_pic BIT\r\n",
                "    , identity_verified BIT);\r\n",
                "    \r\n",
                "\r\n",
                "INSERT INTO [airbnb].[dbo].[hosts]\r\n",
                "    SELECT DISTINCT\r\n",
                "    host_id\r\n",
                "    , CONVERT(NVARCHAR(40),host_name)\r\n",
                "    , host_since\r\n",
                "    , CONVERT(NVARCHAR(100),host_location)\r\n",
                "    , CONVERT(NVARCHAR(20),host_response_time)\r\n",
                "    , CONVERT(FLOAT,CAST(host_response_rate AS VARCHAR(MAX)))\r\n",
                "    , CONVERT(FLOAT,CAST(host_acceptance_rate AS VARCHAR(MAX)))\r\n",
                "    , CASE\r\n",
                "        WHEN CAST(host_is_superhost AS NVARCHAR(1)) = 't'\r\n",
                "            THEN 'TRUE'\r\n",
                "        ELSE 'FALSE'\r\n",
                "      END\r\n",
                "    , CONVERT(NVARCHAR(30),host_neighbourhood)\r\n",
                "    , CONVERT(INT,CAST(host_listings_count AS VARCHAR(MAX)))\r\n",
                "    , CONVERT(INT,CAST(host_total_listings_count AS VARCHAR(MAX)))\r\n",
                "    , CONVERT(NVARCHAR(30),host_verifications)\r\n",
                "    , CASE\r\n",
                "        WHEN CAST(host_has_profile_pic AS NVARCHAR(1)) = 't'\r\n",
                "            THEN 'TRUE'\r\n",
                "        ELSE 'FALSE'\r\n",
                "      END\r\n",
                "    , CASE\r\n",
                "        WHEN CAST(host_identity_verified AS NVARCHAR(1)) = 't'\r\n",
                "            THEN 'TRUE'\r\n",
                "        ELSE 'FALSE'\r\n",
                "      END\r\n",
                "    FROM [airbnb].[dbo].[scraped_listings]"
            ],
            "metadata": {
                "azdata_cell_guid": "c89155b9-1a55-48b5-a522-2cc5f99dac96",
                "tags": []
            },
            "outputs": [
                {
                    "output_type": "display_data",
                    "data": {
                        "text/html": "(25690 rows affected)"
                    },
                    "metadata": {}
                },
                {
                    "output_type": "display_data",
                    "data": {
                        "text/html": "Total execution time: 00:00:00.818"
                    },
                    "metadata": {}
                }
            ],
            "execution_count": 12
        },
        {
            "cell_type": "markdown",
            "source": [
                "Similarly, we will need to parse the Listings into its own Entity"
            ],
            "metadata": {
                "azdata_cell_guid": "89c82322-ef5f-4538-a54a-5c88528ca070"
            },
            "attachments": {}
        },
        {
            "cell_type": "code",
            "source": [
                "CREATE TABLE [airbnb].[dbo].[listings]\r\n",
                "    (listing_id INT PRIMARY KEY\r\n",
                "    , host_id INT\r\n",
                "    , neighbourhood NVARCHAR(100)\r\n",
                "    , neighbourhood_group NVARCHAR(100)\r\n",
                "    , latitude FLOAT\r\n",
                "    , longitude FLOAT\r\n",
                "    , property_type NVARCHAR(50)\r\n",
                "    , room_type NVARCHAR(50)\r\n",
                "    , accommodates INT\r\n",
                "    , bathrooms INT\r\n",
                "    , bedrooms INT\r\n",
                "    , beds INT\r\n",
                "    , amenities_concat VARCHAR(MAX)\r\n",
                "    , price INT\r\n",
                "    , availability_365 INT\r\n",
                "    , number_of_reviews INT\r\n",
                "    , review_scores_rating FLOAT);\r\n",
                "    \r\n",
                "\r\n",
                "INSERT INTO [airbnb].[dbo].[listings]\r\n",
                "    SELECT\r\n",
                "    Id\r\n",
                "    , host_id\r\n",
                "    , CAST(neighbourhood_cleansed AS NVARCHAR(100))\r\n",
                "    , CAST(neighbourhood_group_cleansed AS NVARCHAR(100))\r\n",
                "    , CAST(CAST(latitude AS VARCHAR(MAX)) AS FLOAT)\r\n",
                "    , CAST(CAST(longitude AS VARCHAR(MAX)) AS FLOAT)\r\n",
                "    , CAST(property_type AS NVARCHAR(50))\r\n",
                "    , CAST(room_type AS NVARCHAR(50))\r\n",
                "    , CONVERT(INT,CAST(accommodates AS VARCHAR(MAX)))\r\n",
                "    , CONVERT(INT,CAST(bathrooms AS VARCHAR(MAX)))\r\n",
                "    , CONVERT(INT,CAST(bedrooms AS VARCHAR(MAX)))\r\n",
                "    , CONVERT(INT,CAST(beds AS VARCHAR(MAX)))\r\n",
                "    , CAST(amenities AS VARCHAR(MAX))\r\n",
                "    , CONVERT(INT,TRIM(REPLACE(REPLACE(REPLACE(CAST(price AS VARCHAR(MAX)),'$',''),'.00',''),',','')))\r\n",
                "    , CONVERT(INT,CAST(availability_365 AS VARCHAR(MAX)))\r\n",
                "    , CONVERT(INT,CAST(number_of_reviews AS VARCHAR(MAX)))\r\n",
                "    , CONVERT(FLOAT,CAST(review_scores_rating AS VARCHAR(MAX)))\r\n",
                "    FROM [airbnb].[dbo].[scraped_listings]"
            ],
            "metadata": {
                "azdata_cell_guid": "bcf8c35b-c688-48ec-855e-d1e0456a95e8"
            },
            "outputs": [
                {
                    "output_type": "display_data",
                    "data": {
                        "text/html": "(36724 rows affected)"
                    },
                    "metadata": {}
                },
                {
                    "output_type": "display_data",
                    "data": {
                        "text/html": "Total execution time: 00:00:01.330"
                    },
                    "metadata": {}
                }
            ],
            "execution_count": 13
        },
        {
            "cell_type": "markdown",
            "source": [
                "Create a table that lists out unique amenities from the 'listings.amenities\\_concat' field"
            ],
            "metadata": {
                "azdata_cell_guid": "a5364bd4-1869-49bd-9279-d77068ee1512"
            },
            "attachments": {}
        },
        {
            "cell_type": "code",
            "source": [
                "CREATE TABLE [airbnb].[dbo].[amenities]\r\n",
                "(amenity_name VARCHAR(MAX));\r\n",
                "\r\n",
                "INSERT INTO [airbnb].[dbo].[amenities]\r\n",
                "SELECT DISTINCT\r\n",
                "TRIM(LOWER(value))\r\n",
                "FROM [airbnb].[dbo].[listings]\r\n",
                "CROSS APPLY STRING_SPLIT(amenities_concat,',')"
            ],
            "metadata": {
                "azdata_cell_guid": "28c0fc42-eb57-4b10-a0ef-017bed47ebec"
            },
            "outputs": [
                {
                    "output_type": "display_data",
                    "data": {
                        "text/html": "(1623 rows affected)"
                    },
                    "metadata": {}
                },
                {
                    "output_type": "display_data",
                    "data": {
                        "text/html": "Total execution time: 00:00:01.977"
                    },
                    "metadata": {}
                }
            ],
            "execution_count": 14
        },
        {
            "cell_type": "markdown",
            "source": [
                "Create a list of unique host verifications"
            ],
            "metadata": {
                "azdata_cell_guid": "79354c1c-356d-4b56-bac0-c304776437e6"
            },
            "attachments": {}
        },
        {
            "cell_type": "code",
            "source": [
                "CREATE TABLE [airbnb].[dbo].[host_verifications]\r\n",
                "(form_of_verification VARCHAR(MAX));\r\n",
                "\r\n",
                "INSERT INTO [airbnb].[dbo].[host_verifications]\r\n",
                "SELECT DISTINCT\r\n",
                "TRIM(LOWER(value))\r\n",
                "FROM [airbnb].[dbo].[hosts]\r\n",
                "CROSS APPLY STRING_SPLIT(verifications,',')"
            ],
            "metadata": {
                "azdata_cell_guid": "1099d10b-cfb3-41d6-aca4-074030fc2649",
                "tags": []
            },
            "outputs": [
                {
                    "output_type": "display_data",
                    "data": {
                        "text/html": "(63 rows affected)"
                    },
                    "metadata": {}
                },
                {
                    "output_type": "display_data",
                    "data": {
                        "text/html": "Total execution time: 00:00:00.207"
                    },
                    "metadata": {}
                }
            ],
            "execution_count": 15
        },
        {
            "cell_type": "markdown",
            "source": [
                "Create a table that creates a unique record for each singular amenity at each listing"
            ],
            "metadata": {
                "azdata_cell_guid": "10ab0e6d-91bb-4452-8bcb-8f65ba826b20"
            },
            "attachments": {}
        },
        {
            "cell_type": "code",
            "source": [
                "CREATE TABLE [airbnb].[dbo].[listings_by_amenity]\r\n",
                "(listing_id INT\r\n",
                ", form_of_verification VARCHAR(MAX));\r\n",
                "\r\n",
                "INSERT INTO [airbnb].[dbo].[listings_by_amenity]\r\n",
                "SELECT DISTINCT\r\n",
                "listings.listing_id\r\n",
                ", amenities.amenity_name\r\n",
                "FROM [airbnb].[dbo].[listings] listings\r\n",
                "CROSS JOIN [airbnb].[dbo].[amenities] amenities\r\n",
                "WHERE LOWER(listings.amenities_concat) LIKE CONCAT('%',LOWER(amenities.amenity_name),'%')"
            ],
            "metadata": {
                "azdata_cell_guid": "7ca01c83-3f5f-4b58-8b50-cc2e524df3b5"
            },
            "outputs": [
                {
                    "output_type": "display_data",
                    "data": {
                        "text/html": "(962250 rows affected)"
                    },
                    "metadata": {}
                },
                {
                    "output_type": "display_data",
                    "data": {
                        "text/html": "Total execution time: 00:06:09.320"
                    },
                    "metadata": {}
                }
            ],
            "execution_count": 16
        },
        {
            "cell_type": "code",
            "source": [
                "CREATE TABLE [airbnb].[dbo].[hosts_by_verification]\r\n",
                "(listing_id INT\r\n",
                ", amenity_nane VARCHAR(MAX));\r\n",
                "\r\n",
                "INSERT INTO [airbnb].[dbo].[hosts_by_verification]\r\n",
                "SELECT DISTINCT\r\n",
                "hosts.host_id\r\n",
                ", host_verifications.form_of_verification\r\n",
                "FROM [airbnb].[dbo].[hosts] hosts\r\n",
                "CROSS JOIN [airbnb].[dbo].[host_verifications] host_verifications\r\n",
                "WHERE LOWER(hosts.verifications) LIKE CONCAT('%',LOWER(host_verifications.form_of_verification),'%')"
            ],
            "metadata": {
                "azdata_cell_guid": "ba38a408-732e-4ada-9ffd-a0c0233465f4"
            },
            "outputs": [
                {
                    "output_type": "display_data",
                    "data": {
                        "text/html": "(340386 rows affected)"
                    },
                    "metadata": {}
                },
                {
                    "output_type": "display_data",
                    "data": {
                        "text/html": "Total execution time: 00:00:06.529"
                    },
                    "metadata": {}
                }
            ],
            "execution_count": 17
        }
    ]
}